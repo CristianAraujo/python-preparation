{
 "cells": [
  {
   "cell_type": "markdown",
   "metadata": {},
   "source": [
    "## 1. List (Lista)\n",
    "Descripción: Una lista es una colección ordenada y mutable de elementos. \n",
    "Permite almacenar múltiples elementos de diferentes tipos (números, cadenas, objetos, etc.) \n",
    "en una sola estructura.\n",
    "\n",
    "Características:\n",
    "Ordenada: Mantiene el orden de los elementos.\n",
    "Mutable: Puedes agregar, eliminar y modificar elementos.\n",
    "Indexada: Los elementos se acceden por índice, comenzando desde 0."
   ]
  },
  {
   "cell_type": "markdown",
   "metadata": {},
   "source": [
    "Métodos comunes:\n",
    "1. append(x)\n",
    "Descripción: Agrega un solo elemento x al final de la lista."
   ]
  },
  {
   "cell_type": "code",
   "execution_count": 5,
   "metadata": {},
   "outputs": [],
   "source": [
    "from pprint import pprint as pp"
   ]
  },
  {
   "cell_type": "code",
   "execution_count": 6,
   "metadata": {},
   "outputs": [
    {
     "name": "stdout",
     "output_type": "stream",
     "text": [
      "[1, 2, 3, 4]\n"
     ]
    }
   ],
   "source": [
    "lista = [1, 2, 3]\n",
    "lista.append(4)\n",
    "pp(lista)"
   ]
  },
  {
   "cell_type": "markdown",
   "metadata": {},
   "source": [
    "2. extend(iterable)\n",
    "Descripción: Agrega todos los elementos de un iterable (como otra lista o un conjunto) al final de la lista.\n"
   ]
  },
  {
   "cell_type": "code",
   "execution_count": 9,
   "metadata": {},
   "outputs": [
    {
     "name": "stdout",
     "output_type": "stream",
     "text": [
      "[1, 2, 3, 4, 5, 6, 7]\n"
     ]
    }
   ],
   "source": [
    "lista2 = [5, 6, 7]\n",
    "lista.extend(lista2)\n",
    "pp(lista)"
   ]
  },
  {
   "cell_type": "markdown",
   "metadata": {},
   "source": [
    "3. insert(i, x)\n",
    "\n",
    "Descripción: Inserta el elemento x en la posición i de la lista."
   ]
  }
 ],
 "metadata": {
  "kernelspec": {
   "display_name": ".env",
   "language": "python",
   "name": "python3"
  },
  "language_info": {
   "codemirror_mode": {
    "name": "ipython",
    "version": 3
   },
   "file_extension": ".py",
   "mimetype": "text/x-python",
   "name": "python",
   "nbconvert_exporter": "python",
   "pygments_lexer": "ipython3",
   "version": "3.12.4"
  }
 },
 "nbformat": 4,
 "nbformat_minor": 2
}
